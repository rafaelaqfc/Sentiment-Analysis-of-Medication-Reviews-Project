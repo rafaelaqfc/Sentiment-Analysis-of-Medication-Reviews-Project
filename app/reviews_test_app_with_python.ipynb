{
 "cells": [
  {
   "attachments": {},
   "cell_type": "markdown",
   "metadata": {},
   "source": [
    "## Testing the Deployment with Python"
   ]
  },
  {
   "cell_type": "code",
   "execution_count": 1,
   "metadata": {},
   "outputs": [],
   "source": [
    "import pandas as pd\n",
    "import numpy as np"
   ]
  },
  {
   "cell_type": "code",
   "execution_count": 4,
   "metadata": {},
   "outputs": [
    {
     "data": {
      "text/html": [
       "<div>\n",
       "<style scoped>\n",
       "    .dataframe tbody tr th:only-of-type {\n",
       "        vertical-align: middle;\n",
       "    }\n",
       "\n",
       "    .dataframe tbody tr th {\n",
       "        vertical-align: top;\n",
       "    }\n",
       "\n",
       "    .dataframe thead th {\n",
       "        text-align: right;\n",
       "    }\n",
       "</style>\n",
       "<table border=\"1\" class=\"dataframe\">\n",
       "  <thead>\n",
       "    <tr style=\"text-align: right;\">\n",
       "      <th></th>\n",
       "      <th>drugName</th>\n",
       "      <th>condition</th>\n",
       "      <th>rating</th>\n",
       "      <th>date</th>\n",
       "      <th>usefulCount</th>\n",
       "      <th>year</th>\n",
       "      <th>review_word_lemm</th>\n",
       "      <th>polarity</th>\n",
       "      <th>rating_classification</th>\n",
       "    </tr>\n",
       "  </thead>\n",
       "  <tbody>\n",
       "    <tr>\n",
       "      <th>0</th>\n",
       "      <td>Valsartan</td>\n",
       "      <td>Left Ventricular Dysfunction</td>\n",
       "      <td>9.0</td>\n",
       "      <td>2012-05-20</td>\n",
       "      <td>27</td>\n",
       "      <td>2012</td>\n",
       "      <td>['no', 'side', 'effect', 'take', 'combination'...</td>\n",
       "      <td>0.000000</td>\n",
       "      <td>2</td>\n",
       "    </tr>\n",
       "    <tr>\n",
       "      <th>1</th>\n",
       "      <td>Guanfacine</td>\n",
       "      <td>ADHD</td>\n",
       "      <td>8.0</td>\n",
       "      <td>2010-04-27</td>\n",
       "      <td>192</td>\n",
       "      <td>2010</td>\n",
       "      <td>['son', 'halfway', 'fourth', 'week', 'intuniv'...</td>\n",
       "      <td>0.188021</td>\n",
       "      <td>2</td>\n",
       "    </tr>\n",
       "    <tr>\n",
       "      <th>2</th>\n",
       "      <td>Lybrel</td>\n",
       "      <td>Birth Control</td>\n",
       "      <td>5.0</td>\n",
       "      <td>2009-12-14</td>\n",
       "      <td>17</td>\n",
       "      <td>2009</td>\n",
       "      <td>['used', 'take', 'another', 'oral', 'contracep...</td>\n",
       "      <td>0.113636</td>\n",
       "      <td>1</td>\n",
       "    </tr>\n",
       "    <tr>\n",
       "      <th>3</th>\n",
       "      <td>Ortho Evra</td>\n",
       "      <td>Birth Control</td>\n",
       "      <td>8.0</td>\n",
       "      <td>2015-11-03</td>\n",
       "      <td>10</td>\n",
       "      <td>2015</td>\n",
       "      <td>['first', 'time', 'using', 'form', 'birth', 'c...</td>\n",
       "      <td>0.262500</td>\n",
       "      <td>2</td>\n",
       "    </tr>\n",
       "    <tr>\n",
       "      <th>4</th>\n",
       "      <td>Buprenorphine / naloxone</td>\n",
       "      <td>Opiate Dependence</td>\n",
       "      <td>9.0</td>\n",
       "      <td>2016-11-27</td>\n",
       "      <td>37</td>\n",
       "      <td>2016</td>\n",
       "      <td>['suboxone', 'completely', 'turned', 'life', '...</td>\n",
       "      <td>0.163333</td>\n",
       "      <td>2</td>\n",
       "    </tr>\n",
       "  </tbody>\n",
       "</table>\n",
       "</div>"
      ],
      "text/plain": [
       "                   drugName                     condition  rating        date  \\\n",
       "0                 Valsartan  Left Ventricular Dysfunction     9.0  2012-05-20   \n",
       "1                Guanfacine                          ADHD     8.0  2010-04-27   \n",
       "2                    Lybrel                 Birth Control     5.0  2009-12-14   \n",
       "3                Ortho Evra                 Birth Control     8.0  2015-11-03   \n",
       "4  Buprenorphine / naloxone             Opiate Dependence     9.0  2016-11-27   \n",
       "\n",
       "   usefulCount  year                                   review_word_lemm  \\\n",
       "0           27  2012  ['no', 'side', 'effect', 'take', 'combination'...   \n",
       "1          192  2010  ['son', 'halfway', 'fourth', 'week', 'intuniv'...   \n",
       "2           17  2009  ['used', 'take', 'another', 'oral', 'contracep...   \n",
       "3           10  2015  ['first', 'time', 'using', 'form', 'birth', 'c...   \n",
       "4           37  2016  ['suboxone', 'completely', 'turned', 'life', '...   \n",
       "\n",
       "   polarity  rating_classification  \n",
       "0  0.000000                      2  \n",
       "1  0.188021                      2  \n",
       "2  0.113636                      1  \n",
       "3  0.262500                      2  \n",
       "4  0.163333                      2  "
      ]
     },
     "execution_count": 4,
     "metadata": {},
     "output_type": "execute_result"
    }
   ],
   "source": [
    "# Load the trainning dataset\n",
    "# train_medication_reviews = pd.read_csv('/content/drive/Othercomputers/My MacBook Pro/Sentiment-Analysis-of-Medication-Reviews-Project/medication_reviews_dataset_to_train.csv', sep=',')\n",
    "train_medication_reviews = pd.read_csv('/Users/rafaelaqueiroz/Sentiment-Analysis-of-Medication-Reviews-Project/medication_reviews_dataset_to_train.csv', sep=',')\n",
    "train_medication_reviews.head()"
   ]
  },
  {
   "cell_type": "code",
   "execution_count": 80,
   "metadata": {},
   "outputs": [
    {
     "data": {
      "text/html": [
       "<div>\n",
       "<style scoped>\n",
       "    .dataframe tbody tr th:only-of-type {\n",
       "        vertical-align: middle;\n",
       "    }\n",
       "\n",
       "    .dataframe tbody tr th {\n",
       "        vertical-align: top;\n",
       "    }\n",
       "\n",
       "    .dataframe thead th {\n",
       "        text-align: right;\n",
       "    }\n",
       "</style>\n",
       "<table border=\"1\" class=\"dataframe\">\n",
       "  <thead>\n",
       "    <tr style=\"text-align: right;\">\n",
       "      <th></th>\n",
       "      <th>Unnamed: 0</th>\n",
       "      <th>drugName</th>\n",
       "      <th>condition</th>\n",
       "      <th>review</th>\n",
       "      <th>rating</th>\n",
       "      <th>date</th>\n",
       "      <th>usefulCount</th>\n",
       "    </tr>\n",
       "  </thead>\n",
       "  <tbody>\n",
       "    <tr>\n",
       "      <th>0</th>\n",
       "      <td>163740</td>\n",
       "      <td>Mirtazapine</td>\n",
       "      <td>Depression</td>\n",
       "      <td>\"I&amp;#039;ve tried a few antidepressants over th...</td>\n",
       "      <td>10.0</td>\n",
       "      <td>February 28, 2012</td>\n",
       "      <td>22</td>\n",
       "    </tr>\n",
       "    <tr>\n",
       "      <th>1</th>\n",
       "      <td>206473</td>\n",
       "      <td>Mesalamine</td>\n",
       "      <td>Crohn's Disease, Maintenance</td>\n",
       "      <td>\"My son has Crohn&amp;#039;s disease and has done ...</td>\n",
       "      <td>8.0</td>\n",
       "      <td>May 17, 2009</td>\n",
       "      <td>17</td>\n",
       "    </tr>\n",
       "    <tr>\n",
       "      <th>2</th>\n",
       "      <td>159672</td>\n",
       "      <td>Bactrim</td>\n",
       "      <td>Urinary Tract Infection</td>\n",
       "      <td>\"Quick reduction of symptoms\"</td>\n",
       "      <td>9.0</td>\n",
       "      <td>September 29, 2017</td>\n",
       "      <td>3</td>\n",
       "    </tr>\n",
       "    <tr>\n",
       "      <th>3</th>\n",
       "      <td>39293</td>\n",
       "      <td>Contrave</td>\n",
       "      <td>Weight Loss</td>\n",
       "      <td>\"Contrave combines drugs that were used for al...</td>\n",
       "      <td>9.0</td>\n",
       "      <td>March 5, 2017</td>\n",
       "      <td>35</td>\n",
       "    </tr>\n",
       "    <tr>\n",
       "      <th>4</th>\n",
       "      <td>97768</td>\n",
       "      <td>Cyclafem 1 / 35</td>\n",
       "      <td>Birth Control</td>\n",
       "      <td>\"I have been on this birth control for one cyc...</td>\n",
       "      <td>9.0</td>\n",
       "      <td>October 22, 2015</td>\n",
       "      <td>4</td>\n",
       "    </tr>\n",
       "    <tr>\n",
       "      <th>5</th>\n",
       "      <td>208087</td>\n",
       "      <td>Zyclara</td>\n",
       "      <td>Keratosis</td>\n",
       "      <td>\"4 days in on first 2 weeks.  Using on arms an...</td>\n",
       "      <td>4.0</td>\n",
       "      <td>July 3, 2014</td>\n",
       "      <td>13</td>\n",
       "    </tr>\n",
       "    <tr>\n",
       "      <th>6</th>\n",
       "      <td>215892</td>\n",
       "      <td>Copper</td>\n",
       "      <td>Birth Control</td>\n",
       "      <td>\"I&amp;#039;ve had the copper coil for about 3 mon...</td>\n",
       "      <td>6.0</td>\n",
       "      <td>June 6, 2016</td>\n",
       "      <td>1</td>\n",
       "    </tr>\n",
       "    <tr>\n",
       "      <th>7</th>\n",
       "      <td>169852</td>\n",
       "      <td>Amitriptyline</td>\n",
       "      <td>Migraine Prevention</td>\n",
       "      <td>\"This has been great for me. I&amp;#039;ve been on...</td>\n",
       "      <td>9.0</td>\n",
       "      <td>April 21, 2009</td>\n",
       "      <td>32</td>\n",
       "    </tr>\n",
       "    <tr>\n",
       "      <th>8</th>\n",
       "      <td>23295</td>\n",
       "      <td>Methadone</td>\n",
       "      <td>Opiate Withdrawal</td>\n",
       "      <td>\"Ive been on Methadone for over ten years and ...</td>\n",
       "      <td>7.0</td>\n",
       "      <td>October 18, 2016</td>\n",
       "      <td>21</td>\n",
       "    </tr>\n",
       "    <tr>\n",
       "      <th>9</th>\n",
       "      <td>71428</td>\n",
       "      <td>Levora</td>\n",
       "      <td>Birth Control</td>\n",
       "      <td>\"I was on this pill for almost two years. It d...</td>\n",
       "      <td>2.0</td>\n",
       "      <td>April 16, 2011</td>\n",
       "      <td>3</td>\n",
       "    </tr>\n",
       "    <tr>\n",
       "      <th>10</th>\n",
       "      <td>196802</td>\n",
       "      <td>Paroxetine</td>\n",
       "      <td>Hot Flashes</td>\n",
       "      <td>\"Holy Hell is exactly how I feel. I had been t...</td>\n",
       "      <td>1.0</td>\n",
       "      <td>February 22, 2017</td>\n",
       "      <td>17</td>\n",
       "    </tr>\n",
       "    <tr>\n",
       "      <th>11</th>\n",
       "      <td>31947</td>\n",
       "      <td>Miconazole</td>\n",
       "      <td>Vaginal Yeast Infection</td>\n",
       "      <td>\"Honestly its day one on the 3 day treatment. ...</td>\n",
       "      <td>6.0</td>\n",
       "      <td>May 7, 2015</td>\n",
       "      <td>7</td>\n",
       "    </tr>\n",
       "    <tr>\n",
       "      <th>12</th>\n",
       "      <td>4907</td>\n",
       "      <td>Belviq</td>\n",
       "      <td>Weight Loss</td>\n",
       "      <td>\"This is a waste of money.  Did not curb my ap...</td>\n",
       "      <td>1.0</td>\n",
       "      <td>September 23, 2014</td>\n",
       "      <td>57</td>\n",
       "    </tr>\n",
       "    <tr>\n",
       "      <th>13</th>\n",
       "      <td>66736</td>\n",
       "      <td>Seroquel</td>\n",
       "      <td>Schizoaffective Disorde</td>\n",
       "      <td>\"No problems, watch what you eat.\"</td>\n",
       "      <td>10.0</td>\n",
       "      <td>October 8, 2014</td>\n",
       "      <td>19</td>\n",
       "    </tr>\n",
       "    <tr>\n",
       "      <th>14</th>\n",
       "      <td>97013</td>\n",
       "      <td>Ambien</td>\n",
       "      <td>Insomnia</td>\n",
       "      <td>\"Ditto on rebound sleepless when discontinued....</td>\n",
       "      <td>2.0</td>\n",
       "      <td>January 13, 2015</td>\n",
       "      <td>44</td>\n",
       "    </tr>\n",
       "    <tr>\n",
       "      <th>15</th>\n",
       "      <td>213376</td>\n",
       "      <td>Nuvigil</td>\n",
       "      <td>Narcolepsy</td>\n",
       "      <td>\"A doctor in the ER prescribed me 200 mg of Pr...</td>\n",
       "      <td>9.0</td>\n",
       "      <td>June 30, 2010</td>\n",
       "      <td>14</td>\n",
       "    </tr>\n",
       "    <tr>\n",
       "      <th>16</th>\n",
       "      <td>151674</td>\n",
       "      <td>Chantix</td>\n",
       "      <td>Smoking Cessation</td>\n",
       "      <td>\"I smoked for 50+ years.  Took it for one week...</td>\n",
       "      <td>10.0</td>\n",
       "      <td>February 14, 2015</td>\n",
       "      <td>26</td>\n",
       "    </tr>\n",
       "    <tr>\n",
       "      <th>17</th>\n",
       "      <td>33173</td>\n",
       "      <td>Microgestin Fe 1 / 20</td>\n",
       "      <td>Acne</td>\n",
       "      <td>\"So I was on Ginanvi for about 3 months before...</td>\n",
       "      <td>3.0</td>\n",
       "      <td>June 22, 2017</td>\n",
       "      <td>1</td>\n",
       "    </tr>\n",
       "    <tr>\n",
       "      <th>18</th>\n",
       "      <td>30401</td>\n",
       "      <td>Klonopin</td>\n",
       "      <td>Bipolar Disorde</td>\n",
       "      <td>\"This medication helped me  sleep, but eventua...</td>\n",
       "      <td>6.0</td>\n",
       "      <td>July 14, 2009</td>\n",
       "      <td>24</td>\n",
       "    </tr>\n",
       "    <tr>\n",
       "      <th>19</th>\n",
       "      <td>152490</td>\n",
       "      <td>Ciprofloxacin</td>\n",
       "      <td>Urinary Tract Infection</td>\n",
       "      <td>\"After just 1 dose of this ciprofloxacn, I fel...</td>\n",
       "      <td>10.0</td>\n",
       "      <td>June 9, 2010</td>\n",
       "      <td>9</td>\n",
       "    </tr>\n",
       "  </tbody>\n",
       "</table>\n",
       "</div>"
      ],
      "text/plain": [
       "    Unnamed: 0               drugName                     condition  \\\n",
       "0       163740            Mirtazapine                    Depression   \n",
       "1       206473             Mesalamine  Crohn's Disease, Maintenance   \n",
       "2       159672                Bactrim       Urinary Tract Infection   \n",
       "3        39293               Contrave                   Weight Loss   \n",
       "4        97768        Cyclafem 1 / 35                 Birth Control   \n",
       "5       208087                Zyclara                     Keratosis   \n",
       "6       215892                 Copper                 Birth Control   \n",
       "7       169852          Amitriptyline           Migraine Prevention   \n",
       "8        23295              Methadone             Opiate Withdrawal   \n",
       "9        71428                 Levora                 Birth Control   \n",
       "10      196802             Paroxetine                   Hot Flashes   \n",
       "11       31947             Miconazole       Vaginal Yeast Infection   \n",
       "12        4907                 Belviq                   Weight Loss   \n",
       "13       66736               Seroquel       Schizoaffective Disorde   \n",
       "14       97013                 Ambien                      Insomnia   \n",
       "15      213376                Nuvigil                    Narcolepsy   \n",
       "16      151674                Chantix             Smoking Cessation   \n",
       "17       33173  Microgestin Fe 1 / 20                          Acne   \n",
       "18       30401               Klonopin               Bipolar Disorde   \n",
       "19      152490          Ciprofloxacin       Urinary Tract Infection   \n",
       "\n",
       "                                               review  rating  \\\n",
       "0   \"I&#039;ve tried a few antidepressants over th...    10.0   \n",
       "1   \"My son has Crohn&#039;s disease and has done ...     8.0   \n",
       "2                       \"Quick reduction of symptoms\"     9.0   \n",
       "3   \"Contrave combines drugs that were used for al...     9.0   \n",
       "4   \"I have been on this birth control for one cyc...     9.0   \n",
       "5   \"4 days in on first 2 weeks.  Using on arms an...     4.0   \n",
       "6   \"I&#039;ve had the copper coil for about 3 mon...     6.0   \n",
       "7   \"This has been great for me. I&#039;ve been on...     9.0   \n",
       "8   \"Ive been on Methadone for over ten years and ...     7.0   \n",
       "9   \"I was on this pill for almost two years. It d...     2.0   \n",
       "10  \"Holy Hell is exactly how I feel. I had been t...     1.0   \n",
       "11  \"Honestly its day one on the 3 day treatment. ...     6.0   \n",
       "12  \"This is a waste of money.  Did not curb my ap...     1.0   \n",
       "13                 \"No problems, watch what you eat.\"    10.0   \n",
       "14  \"Ditto on rebound sleepless when discontinued....     2.0   \n",
       "15  \"A doctor in the ER prescribed me 200 mg of Pr...     9.0   \n",
       "16  \"I smoked for 50+ years.  Took it for one week...    10.0   \n",
       "17  \"So I was on Ginanvi for about 3 months before...     3.0   \n",
       "18  \"This medication helped me  sleep, but eventua...     6.0   \n",
       "19  \"After just 1 dose of this ciprofloxacn, I fel...    10.0   \n",
       "\n",
       "                  date  usefulCount  \n",
       "0    February 28, 2012           22  \n",
       "1         May 17, 2009           17  \n",
       "2   September 29, 2017            3  \n",
       "3        March 5, 2017           35  \n",
       "4     October 22, 2015            4  \n",
       "5         July 3, 2014           13  \n",
       "6         June 6, 2016            1  \n",
       "7       April 21, 2009           32  \n",
       "8     October 18, 2016           21  \n",
       "9       April 16, 2011            3  \n",
       "10   February 22, 2017           17  \n",
       "11         May 7, 2015            7  \n",
       "12  September 23, 2014           57  \n",
       "13     October 8, 2014           19  \n",
       "14    January 13, 2015           44  \n",
       "15       June 30, 2010           14  \n",
       "16   February 14, 2015           26  \n",
       "17       June 22, 2017            1  \n",
       "18       July 14, 2009           24  \n",
       "19        June 9, 2010            9  "
      ]
     },
     "execution_count": 80,
     "metadata": {},
     "output_type": "execute_result"
    }
   ],
   "source": [
    "# Load the testing dataset\n",
    "# test_drug_reviews_df = pd.read_csv('/content/drive/MyDrive/Data-Science-Other-Materials/Data-Scientist-Bootcamp/Sentiment-Analysis-of-Drug-Reviews/drugsComTest_raw.tsv', delimiter='\\t')\n",
    "test_drug_reviews_df = pd.read_csv('/Users/rafaelaqueiroz/Sentiment-Analysis-of-Medication-Reviews-Project/drugsComTest_raw.tsv', delimiter='\\t')\n",
    "test_drug_reviews_df.head(20)"
   ]
  },
  {
   "cell_type": "code",
   "execution_count": 6,
   "metadata": {},
   "outputs": [],
   "source": [
    "X_test = test_drug_reviews_df.review"
   ]
  },
  {
   "cell_type": "code",
   "execution_count": 28,
   "metadata": {},
   "outputs": [],
   "source": [
    "import requests\n",
    "URL = \"http://127.0.0.1:5000/predict\""
   ]
  },
  {
   "cell_type": "code",
   "execution_count": 8,
   "metadata": {},
   "outputs": [
    {
     "data": {
      "text/plain": [
       "'\"4 days in on first 2 weeks.  Using on arms and face. Put vaseline on lips, under eyes and in nostrils to protect from cream.  So far no reaction at all.  I know I have many pre cancer and thought I would light up like a Christmas tree but so far so good.  Maybe it&#039;s coming but time will tell.\"'"
      ]
     },
     "execution_count": 8,
     "metadata": {},
     "output_type": "execute_result"
    }
   ],
   "source": [
    "X_test[5]"
   ]
  },
  {
   "cell_type": "code",
   "execution_count": 56,
   "metadata": {},
   "outputs": [],
   "source": [
    "json_data_1 = {'review': [\"4 days in on first 2 weeks.  Using on arms and face. Put vaseline on lips, under eyes and in nostrils to protect from cream.  So far no reaction at all.  I know I have many pre cancer and thought I would light up like a Christmas tree but so far so good.  Maybe it&#039;s coming but time will tell.\"]}\n",
    "r_1 = requests.post(url = URL, json = json_data_1)"
   ]
  },
  {
   "cell_type": "code",
   "execution_count": 57,
   "metadata": {},
   "outputs": [
    {
     "name": "stdout",
     "output_type": "stream",
     "text": [
      "{'review': ['4 days in on first 2 weeks.  Using on arms and face. Put vaseline on lips, under eyes and in nostrils to protect from cream.  So far no reaction at all.  I know I have many pre cancer and thought I would light up like a Christmas tree but so far so good.  Maybe it&#039;s coming but time will tell.']}\n",
      "<Response [200]>\n",
      "{'ratings': ['Positive']}\n"
     ]
    }
   ],
   "source": [
    "print(json_data_1)\n",
    "print(r_1)\n",
    "print(r_1.json())"
   ]
  },
  {
   "cell_type": "code",
   "execution_count": 32,
   "metadata": {},
   "outputs": [
    {
     "data": {
      "text/plain": [
       "'\"2.75g x 2 every night for five years. Deeper sleep with dreaming not infrequent. No side effects whatsoever. I&#039;ve not gotten used to the salt added during manufacture.\"'"
      ]
     },
     "execution_count": 32,
     "metadata": {},
     "output_type": "execute_result"
    }
   ],
   "source": [
    "X_test[28]"
   ]
  },
  {
   "cell_type": "code",
   "execution_count": 58,
   "metadata": {},
   "outputs": [],
   "source": [
    "json_data_2 = {'review': [\"2.75g x 2 every night for five years. Deeper sleep with dreaming not infrequent. No side effects whatsoever. I&#039;ve not gotten used to the salt added during manufacture.\"]}\n",
    "r_2 = requests.post(url = URL, json = json_data_2)"
   ]
  },
  {
   "cell_type": "code",
   "execution_count": 59,
   "metadata": {},
   "outputs": [
    {
     "name": "stdout",
     "output_type": "stream",
     "text": [
      "{'review': ['2.75g x 2 every night for five years. Deeper sleep with dreaming not infrequent. No side effects whatsoever. I&#039;ve not gotten used to the salt added during manufacture.']}\n",
      "<Response [200]>\n",
      "{'ratings': ['Positive']}\n"
     ]
    }
   ],
   "source": [
    "print(json_data_2)\n",
    "print(r_2)\n",
    "print(r_2.json())"
   ]
  },
  {
   "cell_type": "code",
   "execution_count": 37,
   "metadata": {},
   "outputs": [
    {
     "data": {
      "text/plain": [
       "'\"I have severe scar tissue and adhesions from mutiple surgeries and the pain was intense it is in my pelvic area. I fill like I&#039;m having a bad cycle every day and walking intensifies the pain this is a every day feeling. My doctor tried me on Ultram and it has been a God send. I take it three times a day. Without it it would be hard to walk so I give it a 10 thank you.\"'"
      ]
     },
     "execution_count": 37,
     "metadata": {},
     "output_type": "execute_result"
    }
   ],
   "source": [
    "X_test[77]"
   ]
  },
  {
   "cell_type": "code",
   "execution_count": 48,
   "metadata": {},
   "outputs": [],
   "source": [
    "json_data_3 = {'review': [\"I have severe scar tissue and adhesions from mutiple surgeries and the pain was intense it is in my pelvic area. I fill like I&#039;m having a bad cycle every day and walking intensifies the pain this is a every day feeling. My doctor tried me on Ultram and it has been a God send. I take it three times a day. Without it it would be hard to walk so I give it a 10 thank you.\"]}\n",
    "r_3 = requests.post(url = URL, json = json_data_3)"
   ]
  },
  {
   "cell_type": "code",
   "execution_count": 49,
   "metadata": {},
   "outputs": [
    {
     "name": "stdout",
     "output_type": "stream",
     "text": [
      "{'review': ['I have severe scar tissue and adhesions from mutiple surgeries and the pain was intense it is in my pelvic area. I fill like I&#039;m having a bad cycle every day and walking intensifies the pain this is a every day feeling. My doctor tried me on Ultram and it has been a God send. I take it three times a day. Without it it would be hard to walk so I give it a 10 thank you.']}\n",
      "<Response [200]>\n",
      "{'ratings': ['Positive']}\n"
     ]
    }
   ],
   "source": [
    "print(json_data_3)\n",
    "print(r_3)\n",
    "print(r_3.json())"
   ]
  },
  {
   "cell_type": "code",
   "execution_count": 43,
   "metadata": {},
   "outputs": [
    {
     "data": {
      "text/plain": [
       "'\"Have developed visual problems, thinning hair on top of my head, insomnia, and loss of sexual interest.\"'"
      ]
     },
     "execution_count": 43,
     "metadata": {},
     "output_type": "execute_result"
    }
   ],
   "source": [
    "X_test[155]"
   ]
  },
  {
   "cell_type": "code",
   "execution_count": 46,
   "metadata": {},
   "outputs": [],
   "source": [
    "json_data_4 = {'review': [\"Have developed visual problems, thinning hair on top of my head, insomnia, and loss of sexual interest.\"]}\n",
    "r_4 = requests.post(url = URL, json = json_data_4)"
   ]
  },
  {
   "cell_type": "code",
   "execution_count": 47,
   "metadata": {},
   "outputs": [
    {
     "name": "stdout",
     "output_type": "stream",
     "text": [
      "{'review': ['Have developed visual problems, thinning hair on top of my head, insomnia, and loss of sexual interest.']}\n",
      "<Response [200]>\n",
      "{'ratings': ['Negative']}\n"
     ]
    }
   ],
   "source": [
    "print(json_data_4)\n",
    "print(r_4)\n",
    "print(r_4.json())"
   ]
  },
  {
   "cell_type": "code",
   "execution_count": 51,
   "metadata": {},
   "outputs": [
    {
     "data": {
      "text/plain": [
       "'\"This blood pressure med makes me feel spacey, like I&#039;m not here!  Makes my body weak where it feels like my own legs can&#039;t carry me!! I hate the way it makes me feel!!\"'"
      ]
     },
     "execution_count": 51,
     "metadata": {},
     "output_type": "execute_result"
    }
   ],
   "source": [
    "X_test[820]"
   ]
  },
  {
   "cell_type": "code",
   "execution_count": 55,
   "metadata": {},
   "outputs": [],
   "source": [
    "json_data_5 = {'review': [\"This blood pressure med makes me feel spacey, like I&#039;m not here!  Makes my body weak where it feels like my own legs can&#039;t carry me!! I hate the way it makes me feel!!\"]}\n",
    "r_5 = requests.post(url = URL, json = json_data_5)"
   ]
  },
  {
   "cell_type": "code",
   "execution_count": 54,
   "metadata": {},
   "outputs": [
    {
     "name": "stdout",
     "output_type": "stream",
     "text": [
      "{'review': ['This blood pressure med makes me feel spacey, like I&#039;m not here!  Makes my body weak where it feels like my own legs can&#039;t carry me!! I hate the way it makes me feel!!']}\n",
      "<Response [200]>\n",
      "{'ratings': ['Negative']}\n"
     ]
    }
   ],
   "source": [
    "print(json_data_5)\n",
    "print(r_5)\n",
    "print(r_5.json())"
   ]
  },
  {
   "cell_type": "code",
   "execution_count": 66,
   "metadata": {},
   "outputs": [
    {
     "data": {
      "text/plain": [
       "'\"Honestly its day one on the 3 day treatment. Yes it burns a bit and it does leak out if you dont lay down after insertion. But im faithful it will work.\"'"
      ]
     },
     "execution_count": 66,
     "metadata": {},
     "output_type": "execute_result"
    }
   ],
   "source": [
    "X_test[11]"
   ]
  },
  {
   "cell_type": "code",
   "execution_count": 67,
   "metadata": {},
   "outputs": [],
   "source": [
    "json_data_6 = {'review': [\"This blood pressure med makes me feel spacey, like I&#039;m not here!  Makes my body weak where it feels like my own legs can&#039;t carry me!! I hate the way it makes me feel!!\"]}\n",
    "r_6 = requests.post(url = URL, json = json_data_6)"
   ]
  },
  {
   "cell_type": "code",
   "execution_count": 68,
   "metadata": {},
   "outputs": [
    {
     "name": "stdout",
     "output_type": "stream",
     "text": [
      "{'review': ['This blood pressure med makes me feel spacey, like I&#039;m not here!  Makes my body weak where it feels like my own legs can&#039;t carry me!! I hate the way it makes me feel!!']}\n",
      "<Response [200]>\n",
      "{'ratings': ['Negative']}\n"
     ]
    }
   ],
   "source": [
    "print(json_data_6)\n",
    "print(r_6)\n",
    "print(r_6.json())"
   ]
  },
  {
   "cell_type": "code",
   "execution_count": 69,
   "metadata": {},
   "outputs": [
    {
     "data": {
      "text/plain": [
       "'\"Honestly its day one on the 3 day treatment. Yes it burns a bit and it does leak out if you dont lay down after insertion. But im faithful it will work.\"'"
      ]
     },
     "execution_count": 69,
     "metadata": {},
     "output_type": "execute_result"
    }
   ],
   "source": [
    "X_test[11]"
   ]
  },
  {
   "cell_type": "code",
   "execution_count": 70,
   "metadata": {},
   "outputs": [],
   "source": [
    "json_data_7 = {'review': [\"This blood pressure med makes me feel spacey, like I&#039;m not here!  Makes my body weak where it feels like my own legs can&#039;t carry me!! I hate the way it makes me feel!!\"]}\n",
    "r_7 = requests.post(url = URL, json = json_data_7)"
   ]
  },
  {
   "cell_type": "code",
   "execution_count": 71,
   "metadata": {},
   "outputs": [
    {
     "name": "stdout",
     "output_type": "stream",
     "text": [
      "{'review': ['This blood pressure med makes me feel spacey, like I&#039;m not here!  Makes my body weak where it feels like my own legs can&#039;t carry me!! I hate the way it makes me feel!!']}\n",
      "<Response [200]>\n",
      "{'ratings': ['Negative']}\n"
     ]
    }
   ],
   "source": [
    "print(json_data_7)\n",
    "print(r_7)\n",
    "print(r_7.json())"
   ]
  },
  {
   "cell_type": "code",
   "execution_count": 75,
   "metadata": {},
   "outputs": [
    {
     "data": {
      "text/plain": [
       "'\"This is a waste of money.  Did not curb my appetite nor did it make me feel full.\"'"
      ]
     },
     "execution_count": 75,
     "metadata": {},
     "output_type": "execute_result"
    }
   ],
   "source": [
    "X_test[12]"
   ]
  },
  {
   "cell_type": "code",
   "execution_count": 76,
   "metadata": {},
   "outputs": [],
   "source": [
    "json_data_8 = {'review': [\"This is a waste of money.  Did not curb my appetite nor did it make me feel full.\"]}\n",
    "r_8 = requests.post(url = URL, json = json_data_8)"
   ]
  },
  {
   "cell_type": "code",
   "execution_count": 77,
   "metadata": {},
   "outputs": [
    {
     "name": "stdout",
     "output_type": "stream",
     "text": [
      "{'review': ['This is a waste of money.  Did not curb my appetite nor did it make me feel full.']}\n",
      "<Response [200]>\n",
      "{'ratings': ['Negative']}\n"
     ]
    }
   ],
   "source": [
    "print(json_data_8)\n",
    "print(r_8)\n",
    "print(r_8.json())"
   ]
  },
  {
   "cell_type": "code",
   "execution_count": 81,
   "metadata": {},
   "outputs": [
    {
     "data": {
      "text/plain": [
       "'\"This medication helped me  sleep, but eventually it became ineffective as a sleep aid. It also helps me calm down when in severe stress, anxiety, or panic.\"'"
      ]
     },
     "execution_count": 81,
     "metadata": {},
     "output_type": "execute_result"
    }
   ],
   "source": [
    "X_test[18]"
   ]
  },
  {
   "cell_type": "code",
   "execution_count": 82,
   "metadata": {},
   "outputs": [],
   "source": [
    "json_data_9 = {'review': [\"This is a waste of money.  Did not curb my appetite nor did it make me feel full.\"]}\n",
    "r_9 = requests.post(url = URL, json = json_data_9)"
   ]
  },
  {
   "cell_type": "code",
   "execution_count": 83,
   "metadata": {},
   "outputs": [
    {
     "name": "stdout",
     "output_type": "stream",
     "text": [
      "{'review': ['This is a waste of money.  Did not curb my appetite nor did it make me feel full.']}\n",
      "<Response [200]>\n",
      "{'ratings': ['Negative']}\n"
     ]
    }
   ],
   "source": [
    "print(json_data_9)\n",
    "print(r_9)\n",
    "print(r_9.json())"
   ]
  },
  {
   "cell_type": "code",
   "execution_count": 85,
   "metadata": {},
   "outputs": [
    {
     "data": {
      "text/plain": [
       "'\"This is by far the best thing on the market for motion sickness. My husbands first love is the ocean so I have had to find something that helps me function on the water.  I take it the night before and only have to take 1/2 the morning of our crossing to Catalina.  It really works.  A sail boater told me about this medicine 20 years ago. The only problem, it&#039;s hard to find.  More people should know about this medicine.\"'"
      ]
     },
     "execution_count": 85,
     "metadata": {},
     "output_type": "execute_result"
    }
   ],
   "source": [
    "X_test[91]"
   ]
  },
  {
   "cell_type": "code",
   "execution_count": 88,
   "metadata": {},
   "outputs": [],
   "source": [
    "json_data_10 = {'review': [\"This is by far the best thing on the market for motion sickness. My husbands first love is the ocean so I have had to find something that helps me function on the water.  I take it the night before and only have to take 1/2 the morning of our crossing to Catalina.  It really works.  A sail boater told me about this medicine 20 years ago. The only problem, it&#039;s hard to find.  More people should know about this medicine.\"]}\n",
    "r_10 = requests.post(url = URL, json = json_data_10)"
   ]
  },
  {
   "cell_type": "code",
   "execution_count": 89,
   "metadata": {},
   "outputs": [
    {
     "name": "stdout",
     "output_type": "stream",
     "text": [
      "{'review': ['This is by far the best thing on the market for motion sickness. My husbands first love is the ocean so I have had to find something that helps me function on the water.  I take it the night before and only have to take 1/2 the morning of our crossing to Catalina.  It really works.  A sail boater told me about this medicine 20 years ago. The only problem, it&#039;s hard to find.  More people should know about this medicine.']}\n",
      "<Response [200]>\n",
      "{'ratings': ['Positive']}\n"
     ]
    }
   ],
   "source": [
    "print(json_data_10)\n",
    "print(r_10)\n",
    "print(r_10.json())"
   ]
  }
 ],
 "metadata": {
  "kernelspec": {
   "display_name": "base",
   "language": "python",
   "name": "python3"
  },
  "language_info": {
   "codemirror_mode": {
    "name": "ipython",
    "version": 3
   },
   "file_extension": ".py",
   "mimetype": "text/x-python",
   "name": "python",
   "nbconvert_exporter": "python",
   "pygments_lexer": "ipython3",
   "version": "3.9.13"
  },
  "orig_nbformat": 4
 },
 "nbformat": 4,
 "nbformat_minor": 2
}
